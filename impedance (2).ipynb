{
 "cells": [
  {
   "cell_type": "code",
   "execution_count": 2,
   "metadata": {},
   "outputs": [],
   "source": [
    "import numpy as np\n",
    "import matplotlib.pyplot as plt\n",
    "import math"
   ]
  },
  {
   "cell_type": "code",
   "execution_count": 3,
   "metadata": {},
   "outputs": [],
   "source": [
    "resistivity = 10.6 * 0.0001 #10.6 µΩ cm https://iopscience.iop.org/article/10.1088/1742-6596/100/8/082006/pdf#:~:text=The%20bulk%20resistivity%20of%20Pt,results%20in%20higher%20film%20resistance.\n",
    "thickness = 300 * 10**(-9) #300 nm\n",
    "rho_medium = 1/0.0042 #condutivity of grey matter is 0.0042 S/m\n",
    "R_CT = None #let's assume inert electrode coating (i.e. titanium nitride)\n",
    "L_track = 3.5 * 0.01 #~3,5cm probe length\n",
    "W_track = 0.5 * 0.001 #we assume half a millimeter width for now\n",
    "diameter = 30 * 10**(-4) #30µm = 30 * e-4 cm"
   ]
  },
  {
   "cell_type": "code",
   "execution_count": 4,
   "metadata": {},
   "outputs": [
    {
     "name": "stdout",
     "output_type": "stream",
     "text": [
      "R_series =  287015.873015873 Ohm\n"
     ]
    }
   ],
   "source": [
    "# Resistance of the track\n",
    "R_sheet = resistivity / thickness\n",
    "R_track = R_sheet * L_track/W_track\n",
    "R_spread = rho_medium/(4*(diameter/2))\n",
    "\n",
    "R_series = R_track + R_spread\n",
    "print(\"R_series = \", R_series, \"Ohm\")"
   ]
  },
  {
   "cell_type": "code",
   "execution_count": 5,
   "metadata": {},
   "outputs": [
    {
     "name": "stdout",
     "output_type": "stream",
     "text": [
      "21.11004122822376\n"
     ]
    }
   ],
   "source": [
    "# Neurons size\n",
    "area = 350# * 10**(-6) µm^2\n",
    "diameter = np.sqrt(area/np.pi) * 2\n",
    "print(diameter)\n",
    "volume = 350 #cm^2"
   ]
  },
  {
   "cell_type": "code",
   "execution_count": 6,
   "metadata": {},
   "outputs": [
    {
     "name": "stdout",
     "output_type": "stream",
     "text": [
      "0.0002\n",
      "0.03627831678597811 0.04135185542000138 0.05848035476425733\n"
     ]
    }
   ],
   "source": [
    "# Neurons distances\n",
    "density = 5000 #cells/mm^3\n",
    "empty_vol = 1/density #mm^3\n",
    "print(empty_vol) #mm^3\n",
    "distance_sphere = (empty_vol * 3/4 / np.pi)**(1/3)#mm\n",
    "distance_square = empty_vol**(1/3) #mm\n",
    "distance_hex = (empty_vol/(2*np.sqrt(2)))**(1/3) #mm\n",
    "print(distance_sphere, distance_hex, distance_square)"
   ]
  },
  {
   "cell_type": "code",
   "execution_count": 7,
   "metadata": {},
   "outputs": [
    {
     "name": "stdout",
     "output_type": "stream",
     "text": [
      "GSA =  1.6e-05 cm^2\n",
      "GSA =  1600.0 µm^2\n"
     ]
    }
   ],
   "source": [
    "# Electrodes parameters\n",
    "side_length = 40 * 10**(-4) #40µm = 40 * e-4 cm\n",
    "GSA = side_length**2 # electrode surface area\n",
    "print('GSA = ', GSA, 'cm^2')\n",
    "print('GSA = ', GSA*10**8, 'µm^2')"
   ]
  },
  {
   "cell_type": "markdown",
   "metadata": {},
   "source": [
    "Check for charge density within safety limits\n",
    "What is the shape of the stimulation --> to determine the charge injected\n",
    "        if rectangle shape: what current? for how long?"
   ]
  },
  {
   "cell_type": "code",
   "execution_count": 8,
   "metadata": {},
   "outputs": [
    {
     "name": "stdout",
     "output_type": "stream",
     "text": [
      "Q_inj : 0.015\n",
      "log10(Q_inj) : -1.8239087409443189\n"
     ]
    }
   ],
   "source": [
    "# Pulse parameters:\n",
    "# according to this study: Different effects of monophasic pulses and biphasic pulses applied by a bipolar stimulation electrode in the rat hippocampal CA1 region\n",
    "# biphasic current pulse cathodic first\n",
    "width = 0.1e-3 #0.1 ms # maybe go up to 300µs as in the paper\n",
    "amplitude= 150e-6 #150µA\n",
    "interphase_dwell = 100e-6 #100µs\n",
    "Q_inj = (width * amplitude)*10**6 #µC\n",
    "print('Q_inj :', Q_inj)\n",
    "print('log10(Q_inj) :', np.log10(Q_inj))"
   ]
  },
  {
   "cell_type": "code",
   "execution_count": 9,
   "metadata": {},
   "outputs": [
    {
     "name": "stdout",
     "output_type": "stream",
     "text": [
      "GSA =  1.6e-05\n",
      "Charge density =  937.5\n"
     ]
    }
   ],
   "source": [
    "# Charge density\n",
    "Charge_density = Q_inj/GSA\n",
    "print('GSA = ', GSA)\n",
    "print('Charge density = ', Charge_density) #expressind in µC/cm2"
   ]
  },
  {
   "cell_type": "code",
   "execution_count": 10,
   "metadata": {},
   "outputs": [],
   "source": [
    "#Shannon plot for stimulation safety\n",
    "k = 1.75 \n",
    "\n",
    "# Check if the charge density is within the Shannon limit\n",
    "def Within_Shannon_limit(Q, A, k):\n",
    "    return np.log(Q/A) <= k - np.log(Q)\n",
    "\n",
    "# Compute Shannon limit given a GSA and a k value\n",
    "def Shannon_limit(GSA, k):\n",
    "    return np.sqrt(np.exp(k) * GSA)\n",
    "\n",
    "# Compute the pulse width or amplitude given the other and the charge density\n",
    "def Shannon_limit_pulse(Q, param):\n",
    "    return Q*10**(-6)/param"
   ]
  },
  {
   "cell_type": "code",
   "execution_count": 11,
   "metadata": {},
   "outputs": [
    {
     "data": {
      "text/plain": [
       "False"
      ]
     },
     "execution_count": 11,
     "metadata": {},
     "output_type": "execute_result"
    }
   ],
   "source": [
    "Within_Shannon_limit(Q_inj, GSA, k) #might be wrong because we consider charge density heare and not charge capacity"
   ]
  },
  {
   "cell_type": "code",
   "execution_count": 18,
   "metadata": {},
   "outputs": [
    {
     "name": "stdout",
     "output_type": "stream",
     "text": [
      "Q_max = 0.009595501175868392 µC\n",
      "Q_max = 9.595501175868392 nC\n"
     ]
    }
   ],
   "source": [
    "Q_max = Shannon_limit(GSA, k)\n",
    "print('Q_max =', Q_max, 'µC')\n",
    "print('Q_max =', Q_max*10**3, 'nC')"
   ]
  },
  {
   "cell_type": "code",
   "execution_count": 17,
   "metadata": {},
   "outputs": [
    {
     "name": "stdout",
     "output_type": "stream",
     "text": [
      "max_amp = 0.09595501175868393 mA\n",
      "max_width = 63.97000783912262 µs\n"
     ]
    }
   ],
   "source": [
    "# If we have a pulse width of 0.1 ms, what is the maximum amplitude we can use?\n",
    "width = 0.1e-3 # generally between 50e-6 and 4e-3\n",
    "max_amp = Shannon_limit_pulse(Q_max, width)\n",
    "print('max_amp =', max_amp*10**3, 'mA')\n",
    "\n",
    "# If we have a pulse amplitude of 150 µA, what is the maximum pulse width we can use?\n",
    "amplitude= 150e-6\n",
    "max_width = Shannon_limit_pulse(Q_max, amplitude)\n",
    "print('max_width =', max_width*10**6, 'µs')"
   ]
  },
  {
   "cell_type": "code",
   "execution_count": 21,
   "metadata": {},
   "outputs": [
    {
     "name": "stdout",
     "output_type": "stream",
     "text": [
      "max_amp_DBS = 0.0019999999999999996 µA\n",
      "max_amp_intracortical = 2.2999999999999997e-05 µA\n",
      "max_amp_hearing_cat = 1e-05 µA\n",
      "max_amp_intraspinal_cat = 8.999999999999999e-05 µA\n"
     ]
    }
   ],
   "source": [
    "# Values for existing electrodes\n",
    "pulse_width_DBS = 100e-6 #100µs\n",
    "Qinj_DBS = 200e-9 #200nC\n",
    "pulse_width_intracortical = 200e-6 #200µs\n",
    "Q_inj_intracortical = 4.6e-9 #4.6nC\n",
    "pulse_width_hearing_cat = 150e-6 #150µs\n",
    "Q_inj_hearing_cat = 1.5e-9 #1.5nC\n",
    "pulse_width_intraspinal_cat = 100e-6 #100µs\n",
    "Q_inj_intraspinal_cat = 9e-9 #9nC\n",
    "\n",
    "# Get maximum amplitude for existing electrodes\n",
    "max_amp_DBS = Shannon_limit_pulse(Qinj_DBS, pulse_width_DBS)\n",
    "print('max_amp_DBS =', max_amp_DBS*10**6, 'µA')\n",
    "max_amp_intracortical = Shannon_limit_pulse(Q_inj_intracortical, pulse_width_intracortical)\n",
    "print('max_amp_intracortical =', max_amp_intracortical*10**6, 'µA')\n",
    "max_amp_hearing_cat = Shannon_limit_pulse(Q_inj_hearing_cat, pulse_width_hearing_cat)\n",
    "print('max_amp_hearing_cat =', max_amp_hearing_cat*10**6, 'µA')\n",
    "max_amp_intraspinal_cat = Shannon_limit_pulse(Q_inj_intraspinal_cat, pulse_width_intraspinal_cat)\n",
    "print('max_amp_intraspinal_cat =', max_amp_intraspinal_cat*10**6, 'µA')"
   ]
  },
  {
   "cell_type": "code",
   "execution_count": null,
   "metadata": {},
   "outputs": [],
   "source": [
    "# Get eletrode surface area for existing electrodes\n",
    "def GSA_from_charge_density(charge_density, Q):\n",
    "    return Q/charge_density"
   ]
  },
  {
   "cell_type": "code",
   "execution_count": 14,
   "metadata": {},
   "outputs": [],
   "source": [
    "# Test with other values\n",
    "CIC_theoretical = 100*10**(-6) #maximum value for platinum would be 100 µm/cm2\n",
    "Qinj_theor = CIC_theoretical * GSA #"
   ]
  },
  {
   "cell_type": "code",
   "execution_count": 15,
   "metadata": {},
   "outputs": [
    {
     "data": {
      "text/plain": [
       "True"
      ]
     },
     "execution_count": 15,
     "metadata": {},
     "output_type": "execute_result"
    }
   ],
   "source": [
    "Within_Shannon_limit(Qinj_theor, GSA, k) #considering charge injection capacity"
   ]
  },
  {
   "cell_type": "code",
   "execution_count": null,
   "metadata": {},
   "outputs": [],
   "source": []
  }
 ],
 "metadata": {
  "kernelspec": {
   "display_name": "nssp",
   "language": "python",
   "name": "python3"
  },
  "language_info": {
   "codemirror_mode": {
    "name": "ipython",
    "version": 3
   },
   "file_extension": ".py",
   "mimetype": "text/x-python",
   "name": "python",
   "nbconvert_exporter": "python",
   "pygments_lexer": "ipython3",
   "version": "3.9.18"
  }
 },
 "nbformat": 4,
 "nbformat_minor": 2
}
